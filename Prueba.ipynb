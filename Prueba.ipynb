{
 "cells": [
  {
   "cell_type": "markdown",
   "metadata": {},
   "source": [
    "# Introducion a R notebook\n",
    "\n",
    "La siguiente son expresiones que podemos utilizar en R"
   ]
  },
  {
   "cell_type": "code",
   "execution_count": 2,
   "metadata": {
    "collapsed": false
   },
   "outputs": [
    {
     "data": {
      "text/html": [
       "8"
      ],
      "text/latex": [
       "8"
      ],
      "text/markdown": [
       "8"
      ],
      "text/plain": [
       "[1] 8"
      ]
     },
     "metadata": {},
     "output_type": "display_data"
    }
   ],
   "source": [
    "3+5"
   ]
  },
  {
   "cell_type": "markdown",
   "metadata": {},
   "source": [
    "Pero podemos utilizar expresiones más complejas\n"
   ]
  },
  {
   "cell_type": "code",
   "execution_count": 3,
   "metadata": {
    "collapsed": false
   },
   "outputs": [
    {
     "data": {
      "text/html": [
       "2026.49999465731"
      ],
      "text/latex": [
       "2026.49999465731"
      ],
      "text/markdown": [
       "2026.49999465731"
      ],
      "text/plain": [
       "[1] 2026.5"
      ]
     },
     "metadata": {},
     "output_type": "display_data"
    }
   ],
   "source": [
    "sqrt(23)+45**2-log(27)"
   ]
  },
  {
   "cell_type": "markdown",
   "metadata": {
    "collapsed": true
   },
   "source": [
    "   La ventaja de trabajar con un notebook es que el análisis es interactivo, es decir podemos ejecutar las intrucciones a la vez que vamos leyendo la presentación de la clase.\n",
    "   \n",
    "   Por ejemplo, vamos a generar 24 observaciones de una normal de media 30 y desviación típica 5 con la función `rnorm`.\n",
    "    "
   ]
  },
  {
   "cell_type": "code",
   "execution_count": 2,
   "metadata": {
    "collapsed": true
   },
   "outputs": [],
   "source": [
    "x<-rnorm(24,mean=30,sd=5)"
   ]
  },
  {
   "cell_type": "markdown",
   "metadata": {},
   "source": [
    "Para calcular la media y la varianza del vector x utilizamos las funciones `mean` y `var`, respectivamente."
   ]
  },
  {
   "cell_type": "code",
   "execution_count": 3,
   "metadata": {
    "collapsed": false
   },
   "outputs": [
    {
     "data": {
      "text/html": [
       "27.7887710465079"
      ],
      "text/latex": [
       "27.7887710465079"
      ],
      "text/markdown": [
       "27.7887710465079"
      ],
      "text/plain": [
       "[1] 27.78877"
      ]
     },
     "metadata": {},
     "output_type": "display_data"
    },
    {
     "data": {
      "text/html": [
       "29.0326351359218"
      ],
      "text/latex": [
       "29.0326351359218"
      ],
      "text/markdown": [
       "29.0326351359218"
      ],
      "text/plain": [
       "[1] 29.03264"
      ]
     },
     "metadata": {},
     "output_type": "display_data"
    }
   ],
   "source": [
    "mean(x)\n",
    "var(x)"
   ]
  },
  {
   "cell_type": "code",
   "execution_count": null,
   "metadata": {
    "collapsed": true
   },
   "outputs": [],
   "source": []
  }
 ],
 "metadata": {
  "kernelspec": {
   "display_name": "R",
   "language": "R",
   "name": "ir"
  },
  "language_info": {
   "codemirror_mode": "r",
   "file_extension": ".r",
   "mimetype": "text/x-r-source",
   "name": "R",
   "pygments_lexer": "r",
   "version": "3.3.1"
  }
 },
 "nbformat": 4,
 "nbformat_minor": 1
}
